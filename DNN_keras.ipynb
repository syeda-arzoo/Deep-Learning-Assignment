{
  "nbformat": 4,
  "nbformat_minor": 0,
  "metadata": {
    "kernelspec": {
      "display_name": "Python 3",
      "language": "python",
      "name": "python3"
    },
    "language_info": {
      "codemirror_mode": {
        "name": "ipython",
        "version": 3
      },
      "file_extension": ".py",
      "mimetype": "text/x-python",
      "name": "python",
      "nbconvert_exporter": "python",
      "pygments_lexer": "ipython3",
      "version": "3.7.3"
    },
    "colab": {
      "name": "DL_HW_prob3_prob4.ipynb",
      "provenance": []
    }
  },
  "cells": [
    {
      "cell_type": "code",
      "metadata": {
        "id": "KXIqq_gRCr0W",
        "colab_type": "code",
        "colab": {},
        "outputId": "1427403a-2866-47d9-d9f7-9fa7603cb269"
      },
      "source": [
        "import pandas as pd\n",
        "import numpy as np\n",
        "from numpy import loadtxt\n",
        "from keras.models import Sequential\n",
        "from keras.layers import Dense"
      ],
      "execution_count": null,
      "outputs": [
        {
          "output_type": "stream",
          "text": [
            "Using TensorFlow backend.\n"
          ],
          "name": "stderr"
        }
      ]
    },
    {
      "cell_type": "code",
      "metadata": {
        "id": "PZrtMUORCr0d",
        "colab_type": "code",
        "colab": {}
      },
      "source": [
        "df = pd.read_csv (r'/Users/arzoo/Desktop/SEM1/Intro to DL/train_data.csv')"
      ],
      "execution_count": null,
      "outputs": []
    },
    {
      "cell_type": "code",
      "metadata": {
        "id": "oJVfKYB9Cr0g",
        "colab_type": "code",
        "colab": {},
        "outputId": "100ca279-7b0d-4d96-eed5-e6a9b7862780"
      },
      "source": [
        "# define the keras model\n",
        "# 3 layer neural network. input dimension is 2. \n",
        "# There are 2 hidden layers with 3 neurons each and activation function as sigmoid.\n",
        "# The output layer activation function is softmax with output dimesion as 2.\n",
        "model = Sequential()\n",
        "model.add(Dense(3, input_dim=2, activation='sigmoid'))\n",
        "model.add(Dense(3, activation='sigmoid'))\n",
        "model.add(Dense(2, activation='softmax'))"
      ],
      "execution_count": null,
      "outputs": [
        {
          "output_type": "stream",
          "text": [
            "WARNING:tensorflow:From //anaconda3/lib/python3.7/site-packages/keras/backend/tensorflow_backend.py:74: The name tf.get_default_graph is deprecated. Please use tf.compat.v1.get_default_graph instead.\n",
            "\n",
            "WARNING:tensorflow:From //anaconda3/lib/python3.7/site-packages/keras/backend/tensorflow_backend.py:517: The name tf.placeholder is deprecated. Please use tf.compat.v1.placeholder instead.\n",
            "\n",
            "WARNING:tensorflow:From //anaconda3/lib/python3.7/site-packages/keras/backend/tensorflow_backend.py:4138: The name tf.random_uniform is deprecated. Please use tf.random.uniform instead.\n",
            "\n"
          ],
          "name": "stdout"
        }
      ]
    },
    {
      "cell_type": "code",
      "metadata": {
        "id": "KEVWT8HWCr0k",
        "colab_type": "code",
        "colab": {}
      },
      "source": [
        "df['class1'] = (df[' class'] == 0)\n",
        "df.class1 = df.class1.astype(int)\n",
        "X = df[[' x1',' x2']].values\n",
        "y = df[['class1',' class']].values"
      ],
      "execution_count": null,
      "outputs": []
    },
    {
      "cell_type": "code",
      "metadata": {
        "id": "xlPEqIU4Cr0n",
        "colab_type": "code",
        "colab": {},
        "outputId": "99a9f7b7-e107-4f7e-ccb5-8efdbf638cba"
      },
      "source": [
        "model.compile(loss='mean_squared_error', optimizer='sgd', metrics=['accuracy'])\n",
        "# fit the keras model on the dataset without progress bars\n",
        "model.fit(X, y, epochs=1, batch_size=1, verbose=0)"
      ],
      "execution_count": null,
      "outputs": [
        {
          "output_type": "stream",
          "text": [
            "WARNING:tensorflow:From //anaconda3/lib/python3.7/site-packages/keras/optimizers.py:790: The name tf.train.Optimizer is deprecated. Please use tf.compat.v1.train.Optimizer instead.\n",
            "\n",
            "WARNING:tensorflow:From //anaconda3/lib/python3.7/site-packages/keras/backend/tensorflow_backend.py:986: The name tf.assign_add is deprecated. Please use tf.compat.v1.assign_add instead.\n",
            "\n",
            "WARNING:tensorflow:From //anaconda3/lib/python3.7/site-packages/keras/backend/tensorflow_backend.py:973: The name tf.assign is deprecated. Please use tf.compat.v1.assign instead.\n",
            "\n"
          ],
          "name": "stdout"
        },
        {
          "output_type": "execute_result",
          "data": {
            "text/plain": [
              "<keras.callbacks.History at 0x6398d1c18>"
            ]
          },
          "metadata": {
            "tags": []
          },
          "execution_count": 5
        }
      ]
    },
    {
      "cell_type": "code",
      "metadata": {
        "id": "fFNES58hCr0v",
        "colab_type": "code",
        "colab": {},
        "outputId": "44d67cf5-b44b-4143-ed2e-9fe824090d2c"
      },
      "source": [
        "from sklearn.metrics import f1_score, precision_score, recall_score, confusion_matrix\n",
        "df_test = pd.read_csv (r'/Users/arzoo/Desktop/SEM1/Intro to DL/test_data.csv')\n",
        "X_test = df_test[[' x1',' x2']].values\n",
        "y_test = df_test[[' class']].values\n",
        "y_pred1 = model.predict(X_test)\n",
        "y_pred = np.argmax(y_pred1, axis=1)\n",
        "\n",
        "# Print f1, precision, and recall scores\n",
        "print(\"precision: \", precision_score(y_test, y_pred , average=\"macro\"))\n",
        "print(\"recall: \", recall_score(y_test, y_pred , average=\"macro\"))\n",
        "print(\"f1 score: \", f1_score(y_test, y_pred , average=\"macro\"))\n"
      ],
      "execution_count": null,
      "outputs": [
        {
          "output_type": "stream",
          "text": [
            "precision:  0.8524011299435028\n",
            "recall:  0.7909999999999999\n",
            "f1 score:  0.7813104551305752\n"
          ],
          "name": "stdout"
        }
      ]
    },
    {
      "cell_type": "code",
      "metadata": {
        "id": "drnbyZPZCr0y",
        "colab_type": "code",
        "colab": {}
      },
      "source": [
        ""
      ],
      "execution_count": null,
      "outputs": []
    },
    {
      "cell_type": "code",
      "metadata": {
        "id": "Lb2Cx7hqCr02",
        "colab_type": "code",
        "colab": {}
      },
      "source": [
        ""
      ],
      "execution_count": null,
      "outputs": []
    }
  ]
}